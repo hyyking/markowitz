{
 "cells": [
  {
   "cell_type": "code",
   "execution_count": 1,
   "metadata": {
    "slideshow": {
     "slide_type": "skip"
    }
   },
   "outputs": [],
   "source": [
    "%matplotlib inline"
   ]
  },
  {
   "cell_type": "code",
   "execution_count": 1,
   "metadata": {
    "scrolled": true,
    "slideshow": {
     "slide_type": "skip"
    }
   },
   "outputs": [],
   "source": [
    "import os\n",
    "os.chdir(\"../\")\n",
    "\n",
    "from markowitz.structs import DBCache\n",
    "from markowitz.layout_parser import from_file\n",
    "from markowitz import consumme_window\n",
    "from matplotlib.pyplot import show\n",
    "\n",
    "def main(db, layout_file):\n",
    "    layout = from_file(layout_file)\n",
    "\n",
    "    for window in layout:\n",
    "        consumme_window(window, db)\n",
    "    \n",
    "    show()\n",
    "\n",
    "\n",
    "db = DBCache(\"cac40.db\")"
   ]
  },
  {
   "cell_type": "markdown",
   "metadata": {
    "slideshow": {
     "slide_type": "slide"
    }
   },
   "source": [
    "# Représentation graphique de la Théorie moderne du portefeuille\n",
    "\n",
    "## Léo Duret & Adrien Chaillout-Morlot"
   ]
  },
  {
   "cell_type": "markdown",
   "metadata": {
    "slideshow": {
     "slide_type": "subslide"
    }
   },
   "source": [
    "## Introduction\n",
    "La Théorie Moderne du Portefeuille De Markowitz  est un modèle incontournable des théorie de gestion des actifs.\n",
    "Il a été proposé en 1952 par l'économiste américain Harry Markowitz, le rendant lauréat d'un prix Nobel en Sciences Economiques. On connait bien les représentations graphiques classiques des portefeuilles à deux titres qui ne font pas parler les nuances des bases de données, et peut etre qu'en apportant des elements de construction de nouveaux graphiques nous pourrons observer de nouvelles choses.\n",
    "\n"
   ]
  },
  {
   "cell_type": "markdown",
   "metadata": {
    "slideshow": {
     "slide_type": "subslide"
    }
   },
   "source": [
    "## 1. Modèle\n",
    "\n",
    "### 1.1 Hypothèses \n",
    "\n",
    "#### 1.1.1 Rationalité des agents\n",
    "La théorie moderne du portefeuille ne propose pas de portefeuille optimal, seulement un ensemble paires risque/rendement optimaux (la frontière efficiente). L'hypotèse de rationnalité implique qu'il existe un seul portefeuille qui maximise l'utilité d'un agent selon sa fonction d'utilité.\n",
    "\n",
    "#### 1.1.2 Aversion aux risques\n",
    "Dans le modèle de markowitz le rendement se paie au prix du risque. En effet, l'investisseur n'augmentera son risque seulement si son ésperance de gains augmente \n",
    "\n"
   ]
  },
  {
   "cell_type": "markdown",
   "metadata": {},
   "source": [
    "### 1.2 Rendement-Risque\n",
    "Les hypotèses en têtes nous pouvons ainsi definir les variables de mesure du rendement et du risque dans le modèle de markowitz.\n",
    "Tout d'abord on procède à une analyse individuelle des titres en étudiant les variations historiques. Dans notre cas nous avons étudié les titres du CAC40 entre le 20/10/2015 et les 19/10/2015.\n",
    "\n",
    "Pour un titre possedant $t$ valeurs on calcule la variation entre les valeurs de fermeture du marché:\n",
    "\n",
    "\\begin{align}\n",
    "    V_t = \\ln(X_t) - \\ln(X_{t-1})\n",
    "\\end{align}\n",
    "\n",
    "ainsi que le rendement, soit l'ésperance de variation:\n",
    "\n",
    "\\begin{align}\n",
    "    \\overline{R_{titre}} = E(R_{titre} )=\\frac{1}{N}\\sum\\nolimits_{i=0}^{N}R_i   \n",
    "\\end{align}\n",
    "\n",
    "Enfin afin de determiner le risque d'un actif calcule l'écart type des variations, que l'on peut interpreter comme étant la volatilité du titre durant la période étudié.\n",
    "\n",
    "\\begin{align}\n",
    "    \\sigma_{titre}=\\sqrt{\\frac{\\mathrm{\\sum\\nolimits_{i=0}^{N}(R_i-\\overline{R_{titre}})^2} }{\\mathrm{(N-1)} }   }\n",
    "\\end{align}"
   ]
  },
  {
   "cell_type": "markdown",
   "metadata": {
    "slideshow": {
     "slide_type": "subslide"
    }
   },
   "source": [
    "### 1.3 Portefeuille\n",
    "On considère un portefeuille comme étant une collection d'actifs, ainsi par croisements des données on peut observer les matrices de covariance et par extension de corrélation.\n",
    "\n",
    "On rappelle le calcul de la covariance:\n",
    "\n",
    "\\begin{align}\n",
    "    Cov(R_A,R_B)= E(R_A \\cdot R_B ) - E(R_A)\\cdot E(R_B)\n",
    "\\end{align}\n",
    "\n",
    "Et du coefficient de corrélation $\\varphi$:\n",
    "\n",
    "\\begin{align} \n",
    "    \\varphi_{AB}= \\frac{\\mathrm{cov( R_A \\cdot R_B )} }{\\mathrm{  \\sigma_A \\sigma_B } }\n",
    "\\end{align}\n",
    "\n",
    "\n",
    "Exemple de matrice de covariance pour 3 titres\n",
    "\n",
    "\\begin{pmatrix}\n",
    "    Var(R_A)&Cov(R_A, R_B)&Cov(R_A, R_C)\\\\\n",
    "    Cov(R_B, R_A)&Var(R_B)&Cov(R_B, R_C)\\\\\n",
    "    Cov(R_C, R_A)&Cov(R_C, R_B)&Var(R_C)\n",
    "\\end{pmatrix} \n",
    "\n",
    "Idem pour la matrice de corrélation\n",
    "\n",
    "\\begin{pmatrix}\n",
    "    1&\\varphi_{AB}&\\varphi_{AC}\\\\\n",
    "    \\varphi_{BA}&1&\\varphi_{BC}\\\\\n",
    "    \\varphi_{CA}&\\varphi_{CB}&1\n",
    "\\end{pmatrix} "
   ]
  },
  {
   "cell_type": "code",
   "execution_count": 2,
   "metadata": {
    "slideshow": {
     "slide_type": "subslide"
    }
   },
   "outputs": [
    {
     "data": {
      "text/html": [
       "<div>\n",
       "<style scoped>\n",
       "    .dataframe tbody tr th:only-of-type {\n",
       "        vertical-align: middle;\n",
       "    }\n",
       "\n",
       "    .dataframe tbody tr th {\n",
       "        vertical-align: top;\n",
       "    }\n",
       "\n",
       "    .dataframe thead th {\n",
       "        text-align: right;\n",
       "    }\n",
       "</style>\n",
       "<table border=\"1\" class=\"dataframe\">\n",
       "  <thead>\n",
       "    <tr style=\"text-align: right;\">\n",
       "      <th></th>\n",
       "      <th>renault</th>\n",
       "      <th>peugeot</th>\n",
       "      <th>lvmh</th>\n",
       "    </tr>\n",
       "  </thead>\n",
       "  <tbody>\n",
       "    <tr>\n",
       "      <th>len</th>\n",
       "      <td>515</td>\n",
       "      <td>515</td>\n",
       "      <td>515</td>\n",
       "    </tr>\n",
       "    <tr>\n",
       "      <th>avg</th>\n",
       "      <td>0.00035596</td>\n",
       "      <td>0.000786689</td>\n",
       "      <td>0.000911761</td>\n",
       "    </tr>\n",
       "    <tr>\n",
       "      <th>stdv</th>\n",
       "      <td>0.0197384</td>\n",
       "      <td>0.0212004</td>\n",
       "      <td>0.0143329</td>\n",
       "    </tr>\n",
       "    <tr>\n",
       "      <th>COVAR</th>\n",
       "      <td></td>\n",
       "      <td></td>\n",
       "      <td></td>\n",
       "    </tr>\n",
       "    <tr>\n",
       "      <th>renault</th>\n",
       "      <td>0.000389606</td>\n",
       "      <td>0.00033382</td>\n",
       "      <td>0.000152542</td>\n",
       "    </tr>\n",
       "    <tr>\n",
       "      <th>peugeot</th>\n",
       "      <td>0.00033382</td>\n",
       "      <td>0.000449456</td>\n",
       "      <td>0.000163033</td>\n",
       "    </tr>\n",
       "    <tr>\n",
       "      <th>lvmh</th>\n",
       "      <td>0.000152542</td>\n",
       "      <td>0.000163033</td>\n",
       "      <td>0.000205432</td>\n",
       "    </tr>\n",
       "    <tr>\n",
       "      <th>CORR</th>\n",
       "      <td></td>\n",
       "      <td></td>\n",
       "      <td></td>\n",
       "    </tr>\n",
       "    <tr>\n",
       "      <th>renault</th>\n",
       "      <td>1</td>\n",
       "      <td>0.797731</td>\n",
       "      <td>0.539191</td>\n",
       "    </tr>\n",
       "    <tr>\n",
       "      <th>peugeot</th>\n",
       "      <td>0.797731</td>\n",
       "      <td>1</td>\n",
       "      <td>0.536535</td>\n",
       "    </tr>\n",
       "    <tr>\n",
       "      <th>lvmh</th>\n",
       "      <td>0.539191</td>\n",
       "      <td>0.536535</td>\n",
       "      <td>1</td>\n",
       "    </tr>\n",
       "  </tbody>\n",
       "</table>\n",
       "</div>"
      ],
      "text/plain": [
       "             renault      peugeot         lvmh\n",
       "len              515          515          515\n",
       "avg       0.00035596  0.000786689  0.000911761\n",
       "stdv       0.0197384    0.0212004    0.0143329\n",
       "COVAR                                         \n",
       "renault  0.000389606   0.00033382  0.000152542\n",
       "peugeot   0.00033382  0.000449456  0.000163033\n",
       "lvmh     0.000152542  0.000163033  0.000205432\n",
       "CORR                                          \n",
       "renault            1     0.797731     0.539191\n",
       "peugeot     0.797731            1     0.536535\n",
       "lvmh        0.539191     0.536535            1"
      ]
     },
     "execution_count": 2,
     "metadata": {},
     "output_type": "execute_result"
    }
   ],
   "source": [
    "p = db.load(\"renault\",\"peugeot\",\"lvmh\")\n",
    "\n",
    "p.recap()\n"
   ]
  },
  {
   "cell_type": "markdown",
   "metadata": {
    "slideshow": {
     "slide_type": "subslide"
    }
   },
   "source": [
    "### 1.4 Base de données\n",
    "\n",
    "#### 1.4.1 Apperçu\n",
    "Nous avions à notre disposition des fichiers Excel d'actifs du CAC 40.\n",
    "\n",
    "L'interval est 20/10/2015 - 19/10/2017 pour 515 entrées par tableau, entrées ayant toutes leurs valeurs.\n",
    "\n",
    "##### Ex: Airliquide\n",
    "\n",
    "\n",
    "| ISIN         | JOUR       | OUVR     | PHAUT    | PBAS     | CLOT     | VOLUME  |\n",
    "|--------------|------------|----------|----------|----------|----------|---------|\n",
    "| FR0000120073 | 20/10/2015 | 100      | 100.1818 | 98.4546  | 99.0909  | 833851  |\n",
    "| FR0000120073 | 21/10/2015 | 99.6364  | 100.0455 | 98.3636  | 99.6818  | 714208  |\n",
    "| FR0000120073 | 22/10/2015 | 99.5     | 103.4546 | 99.1818  | 103.0455 | 1264656 |\n",
    "| FR0000120073 | 23/10/2015 | 104.0454 | 105.9546 | 103.6818 | 105.3636 | 1224405 |\n"
   ]
  },
  {
   "cell_type": "markdown",
   "metadata": {
    "slideshow": {
     "slide_type": "subslide"
    }
   },
   "source": [
    "\n",
    "#### 1.4.2 Transformation\n",
    "\n",
    "Afin de pouvoir construire un application permettant d'afficher les graphiques il était important de pouvoir recuperer les données au même endroit. Dans cette optique nous avons créé un script `docs/script/excel_to_db.py` permettant de transferer un ensemble de fichiers excel sur une base de donnée (tel que un fichier soit un tableau). On peut observer ci dessous l'instruction de création des tableaux sur une base de donnée [SQLite](https://sqlite.org/index.html).\n",
    "\n",
    "![Capture de la base de donnée et la structure du tableau](img/database_screen.png)"
   ]
  },
  {
   "cell_type": "markdown",
   "metadata": {},
   "source": [
    "## 2. Construction de l'application\n",
    "\n",
    "### 2.1 Avant de commencer\n",
    "\n",
    "#### 2.1.1 Objectifs\n",
    "\n",
    "Afin de pouvoir automatiser la production de graphiques de la théorie moderne du portefeuille il fallait determiner un certain nombre d'objectifs a respecter, nous fournissant ainsi une direction pour la construction de l'application.\n",
    "\n",
    "- Tout d'abord il est certain qu'il fallait faire en sorte que l'application soit facile d'utilisation. La construction de graphiques simple se doit d'être simple, et donc ne doit pas demander à l'utilisateur de connaitres les fonctionnalités obscure d'un tableur ou la complexité d'un language de programmation.\n",
    "\n",
    "- En suite une interface modulable serait de mise car on ne peut pas se contenter de montrer qu'une vérité. Laisser libre cours à l'utilisateur de tordre la donnée dans le sens qu'il souhaitait était donc un élément indispensable.\n",
    "\n",
    "- Enfin construire un application a part entière est déjà en soit une belle aventure, cependant le format pousse une utilisation pré-maché du logiciel. Ainsi une part du projet est consacré a l'élaboration d'utilitaires pour faciliter la programme d'outils connexe à la théorie moderne du portefeuille.\n",
    "\n",
    "#### 2.1.2 Les outils\n",
    "\n",
    "Pour ce projet nous avons décidé d'utiliser python, un language de programmation général crée par Guido van Rossum et publié en 1991. Cependant, malgrès la maturité du language, nous ne pouvions pas construire tous les outils permettant l'affichage de graphique. C'est pour cette raison que nous avons utilisé plusieurs librairie permettant de constuire les courbes ainsi que de structurer les informations pendant l'execution du programme.\n",
    "\n",
    "Les outils utilisé sont les suivants:\n",
    "- [Numpy](https://www.numpy.org/) La librairie de référence en matière de calcules mathématiques et de travail avec les listes. les autres librairies dépendent de celle-ci.\n",
    "- [Pandas](http://pandas.pydata.org/) une librairie permettant l'utilisation de DataFrames semblables à celles en R.\n",
    "- [Matplotlib](https://matplotlib.org/) la librairie pour la d'affichage des graphiques.\n"
   ]
  },
  {
   "cell_type": "markdown",
   "metadata": {},
   "source": [
    "### 2.2 L'implémentation\n",
    "\n",
    "#### 2.2.1 Les produits selon markowitz et accès à la base de donnée\n",
    "\n",
    "#### 2.2.1.1 Titres\n",
    "Rappelons nous des méthodes de calculs vu précédements pour imaginer, un concept de \"titre financier de markowitz\". Nous avons décris un calcul se déroulant à partir des valeurs passés du titres ainsi la première chose à faire est acceder la base de donnée pour récuperer cet historique. Heureusement pour nous la librairie pandas nous facilite la tache en nous permettant de créer une DataFrame directement depuis une requete de la base de donnée."
   ]
  },
  {
   "cell_type": "code",
   "execution_count": 3,
   "metadata": {},
   "outputs": [
    {
     "name": "stdout",
     "output_type": "stream",
     "text": [
      "     clot\n",
      "0  22.915\n",
      "1  23.095\n",
      "2  23.820\n",
      "3  24.050\n",
      "4  24.155\n"
     ]
    }
   ],
   "source": [
    "# Nous travaillerons sur les valeurs de clotures ainsi la requete se matérialise de cette manière:\n",
    "import pandas as pd\n",
    "import sqlite3 as sql\n",
    "\n",
    "conn = sql.connect(\"cac40.db\")\n",
    "df = pd.read_sql(\"SELECT clot FROM AXA\", conn)\n",
    "\n",
    "print(df.head(n=5))  # 5 premières valeurs"
   ]
  },
  {
   "cell_type": "code",
   "execution_count": 4,
   "metadata": {},
   "outputs": [
    {
     "name": "stdout",
     "output_type": "stream",
     "text": [
      "0         NaN\n",
      "1    0.007855\n",
      "2    0.031392\n",
      "3    0.009656\n",
      "4    0.004366\n",
      "Name: clot, dtype: float64\n"
     ]
    }
   ],
   "source": [
    "# On calcule la variation:\n",
    "\n",
    "print(df[\"clot\"].pct_change().head(n=5))  # 5 premières valeurs"
   ]
  },
  {
   "cell_type": "markdown",
   "metadata": {},
   "source": [
    "Dans notre cas les instances de clotures ayant toutes des valeurs cohérentes, il n'est pas necessaire de nettoyer le tableau des valeurs manquantes ou inéxactes. Pour d'optimiser les opérations de lecture de la structure \"Titre\" nous stockerons indépendamment les valeurs constante fréquemments utilisé calculés à partir du tableau des variation, soit l'éspérance et l'équart type. Nous gardons tout de meme le tableau des variation pour le calculs de la corrélation dans un portefeuille."
   ]
  },
  {
   "cell_type": "markdown",
   "metadata": {},
   "source": [
    "#### 2.2.1.2 Portefeuille\n",
    "\n",
    "Comme définit précédemment, un portefeuille est un ensemble de titres il est donc important que nous utilisions les équations générales et que nous puissions passer autant de titres que nous voulons tout en gardant la possibilité de calculer leur ésperance. Python nous facilite la tache avec une notation permettant de passer autant d'arguments à une fonction/méthode `def __init__(self, *args):`. Il ne reste plus qu'à implementer les fonctions de calculs de l'éspérance et de la variance (ci-dessous)."
   ]
  },
  {
   "cell_type": "code",
   "execution_count": null,
   "metadata": {},
   "outputs": [],
   "source": [
    "# Esperance\n",
    "def avg(self, dot: m_types.FLOAT_COLLECTION) -> m_types.M_FLOAT:  # dot: liste de nombre à virgule\n",
    "    mus = [el.avg for el in self.assets.values()]  # Liste des éspérances des titres\n",
    "    assert(len(dot) == len(mus))  # Assure le nombre de dotations rapporté à la taille du portefeuille\n",
    "    \n",
    "    # Somme du produit des éspérances (mus) et des dotations (dot)\n",
    "    result: float = 0\n",
    "    for i in range(len(dot)):  \n",
    "        result += dot[i] * mus[i]\n",
    "    \n",
    "    return m_types.M_FLOAT(result)"
   ]
  },
  {
   "cell_type": "code",
   "execution_count": null,
   "metadata": {},
   "outputs": [],
   "source": [
    "# Ecart type\n",
    "def stdv(self, dot: m_types.FLOAT_COLLECTION) -> m_types.M_FLOAT:\n",
    "    assert(len(dot) == len(self.assets))  # Assure le nombre de dotations rapporté à la taille du portefeuille\n",
    "    \n",
    "    product = m_maths.dot(m_maths.symmetric_matrix(dot), self.covar_matrix)  # Produit matriciel de la matrice symmétrique et de covariance\n",
    "    trace = m_maths.sqrt(m_maths.trace(product))  # Racine carré de la trace du produit matriciel\n",
    "    \n",
    "    return m_types.M_FLOAT(trace)"
   ]
  },
  {
   "cell_type": "markdown",
   "metadata": {},
   "source": [
    "#### 2.2.1.3 L'interface de la base de donnée\n",
    "\n",
    "Les produits ci-dessus sont construits à partir d'une base de donnée, cependant on remarque que si l'on souhaite afficher plusieurs fois le même titres les memes informations seront demandé plusieurs fois à la base de donnée. C'est comme si à chaque fois que vous rejoignez votre hotel on vous demandait de repasser par la reception pour prendre une chambre.\n",
    "\n",
    "Pour remedier à ce problème et optimiser l'application nous avons mis en place un schema très simple mais éfficace. Tout d'abord on va distinguer deux elements dans la base de donnée. Ces éléments vont se comporter comme un gardien et un réceptioniste. En effet si le gardien vous reconnait il vous laisse acceder à votre chambre sinon c'est la case reception. Traduisons cela et vous avez une instance d'object servant de gardien dont le travaille est de determiner si le titre à déjà été créé sinon demander à l'autre objet (la récéption) de s'en charger et de vous le remettre.\n",
    "\n",
    "De cette manière nous sommes assuré que chaque titre et portfeuille est chargé au maximum une fois. Ceci conclut notre module structure de donnée dont l'interface est basique: les services ayant besoin d'un titre nous qu'a effectuer une demande a l'objet servant de gardien."
   ]
  },
  {
   "cell_type": "markdown",
   "metadata": {
    "slideshow": {
     "slide_type": "slide"
    }
   },
   "source": [
    "### Efficacité des portefeuilles à 2 titres\n",
    "#### Théorie et Application"
   ]
  },
  {
   "cell_type": "markdown",
   "metadata": {
    "slideshow": {
     "slide_type": "subslide"
    }
   },
   "source": [
    "### Théorie\n",
    "\n",
    "Soit deux titres A et B et x la part de titre A tel que\n",
    "\n",
    "\\begin{align}\n",
    "    0 \\leq x \\leq 1\n",
    "\\end{align}\n",
    "\n",
    "\n",
    "On donne le rendement du portefeuille en fonction de x\n",
    "\n",
    "\\begin{align}\n",
    "    R_P(x)     = x \\cdot R_A + (1-x) \\cdot R_B\n",
    "\\end{align}\n",
    "\n",
    "\n",
    "Et sa variance\n",
    "\n",
    "\n",
    "\\begin{array}{lcl}\n",
    "    Var(R_P) &=& (x \\cdot \\sigma_A + (1-x) \\cdot \\sigma_B)^2 \\\\\n",
    "    &=& x^2 \\cdot Var(R_A) + (1-x)^2 \\cdot Var(R_B) + 2 \\cdot x \\cdot (1-x) \\cdot Cov(R_A, R_B)\n",
    "\\end{array}\n",
    "\n",
    "\n",
    "\n",
    "\n"
   ]
  },
  {
   "cell_type": "markdown",
   "metadata": {
    "slideshow": {
     "slide_type": "subslide"
    }
   },
   "source": [
    "### La Frontière Efficiente\n",
    "\n",
    "Il s'agit de l'ensemble des combinaisons optimales d'actifs pour une distribution donnée.\n",
    "\n",
    "On donne son plan par le systeme suivant:\n",
    "\n",
    "\n",
    "\\begin{cases} \n",
    "    R_P(x)     = x \\cdot R_A + (1-x) \\cdot R_B \\\\\n",
    "    \\sigma_P(x)= \\sqrt{Var(R_P)}\n",
    "\\end{cases}\n"
   ]
  },
  {
   "cell_type": "code",
   "execution_count": 7,
   "metadata": {
    "slideshow": {
     "slide_type": "subslide"
    }
   },
   "outputs": [
    {
     "name": "stdout",
     "output_type": "stream",
     "text": [
      "! docs/layouts/layout1.ly\n",
      "\n",
      "& Normal (scale=100) {\n",
      "\t[ NormalGraph(axa) Kde(lvmh) | NormalGraph(lvmh) Kde(lvmh)]\n",
      "\t[              EfficientFrontier(axa/lvmh)                ]\n",
      "}\n",
      "\n"
     ]
    }
   ],
   "source": [
    "with open(\"docs/layouts/layout1.ly\") as ly:\n",
    "    print(ly.read())"
   ]
  },
  {
   "cell_type": "code",
   "execution_count": 2,
   "metadata": {
    "scrolled": true,
    "slideshow": {
     "slide_type": "subslide"
    }
   },
   "outputs": [
    {
     "ename": "TypeError",
     "evalue": "__init__() got an unexpected keyword argument 'figure'",
     "output_type": "error",
     "traceback": [
      "\u001b[0;31m---------------------------------------------------------------------------\u001b[0m",
      "\u001b[0;31mTypeError\u001b[0m                                 Traceback (most recent call last)",
      "\u001b[0;32m<ipython-input-2-eea302027587>\u001b[0m in \u001b[0;36m<module>\u001b[0;34m\u001b[0m\n\u001b[0;32m----> 1\u001b[0;31m \u001b[0mmain\u001b[0m\u001b[0;34m(\u001b[0m\u001b[0mdb\u001b[0m\u001b[0;34m,\u001b[0m \u001b[0;34m\"docs/layouts/layout1.ly\"\u001b[0m\u001b[0;34m)\u001b[0m\u001b[0;34m\u001b[0m\u001b[0;34m\u001b[0m\u001b[0m\n\u001b[0m",
      "\u001b[0;32m<ipython-input-1-5a42961bb04e>\u001b[0m in \u001b[0;36mmain\u001b[0;34m(db, layout_file)\u001b[0m\n\u001b[1;32m     11\u001b[0m \u001b[0;34m\u001b[0m\u001b[0m\n\u001b[1;32m     12\u001b[0m     \u001b[0;32mfor\u001b[0m \u001b[0mwindow\u001b[0m \u001b[0;32min\u001b[0m \u001b[0mlayout\u001b[0m\u001b[0;34m:\u001b[0m\u001b[0;34m\u001b[0m\u001b[0;34m\u001b[0m\u001b[0m\n\u001b[0;32m---> 13\u001b[0;31m         \u001b[0mconsumme_window\u001b[0m\u001b[0;34m(\u001b[0m\u001b[0mwindow\u001b[0m\u001b[0;34m,\u001b[0m \u001b[0mdb\u001b[0m\u001b[0;34m)\u001b[0m\u001b[0;34m\u001b[0m\u001b[0;34m\u001b[0m\u001b[0m\n\u001b[0m\u001b[1;32m     14\u001b[0m \u001b[0;34m\u001b[0m\u001b[0m\n\u001b[1;32m     15\u001b[0m     \u001b[0mshow\u001b[0m\u001b[0;34m(\u001b[0m\u001b[0;34m)\u001b[0m\u001b[0;34m\u001b[0m\u001b[0;34m\u001b[0m\u001b[0m\n",
      "\u001b[0;32m~/py_projects/fcmi/markowitz/__init__.py\u001b[0m in \u001b[0;36mconsumme_window\u001b[0;34m(window, db)\u001b[0m\n\u001b[1;32m      8\u001b[0m     \u001b[0;34m\"\"\" Consumme windows to create plots \"\"\"\u001b[0m\u001b[0;34m\u001b[0m\u001b[0;34m\u001b[0m\u001b[0m\n\u001b[1;32m      9\u001b[0m     \u001b[0mfig\u001b[0m \u001b[0;34m=\u001b[0m \u001b[0mfigure\u001b[0m\u001b[0;34m(\u001b[0m\u001b[0mwindow\u001b[0m\u001b[0;34m.\u001b[0m\u001b[0mname\u001b[0m\u001b[0;34m,\u001b[0m \u001b[0mfigsize\u001b[0m\u001b[0;34m=\u001b[0m\u001b[0;34m(\u001b[0m\u001b[0;36m15\u001b[0m\u001b[0;34m,\u001b[0m \u001b[0;36m10\u001b[0m\u001b[0;34m)\u001b[0m\u001b[0;34m)\u001b[0m\u001b[0;34m\u001b[0m\u001b[0;34m\u001b[0m\u001b[0m\n\u001b[0;32m---> 10\u001b[0;31m     \u001b[0mgs\u001b[0m \u001b[0;34m=\u001b[0m \u001b[0mGridSpec\u001b[0m\u001b[0;34m(\u001b[0m\u001b[0mwindow\u001b[0m\u001b[0;34m.\u001b[0m\u001b[0mrows\u001b[0m\u001b[0;34m,\u001b[0m \u001b[0mwindow\u001b[0m\u001b[0;34m.\u001b[0m\u001b[0mcols\u001b[0m\u001b[0;34m,\u001b[0m \u001b[0mfigure\u001b[0m\u001b[0;34m=\u001b[0m\u001b[0mfig\u001b[0m\u001b[0;34m)\u001b[0m\u001b[0;34m\u001b[0m\u001b[0;34m\u001b[0m\u001b[0m\n\u001b[0m\u001b[1;32m     11\u001b[0m \u001b[0;34m\u001b[0m\u001b[0m\n\u001b[1;32m     12\u001b[0m     \u001b[0;32mfor\u001b[0m \u001b[0mi\u001b[0m\u001b[0;34m,\u001b[0m \u001b[0m_\u001b[0m \u001b[0;32min\u001b[0m \u001b[0menumerate\u001b[0m\u001b[0;34m(\u001b[0m\u001b[0mwindow\u001b[0m\u001b[0;34m.\u001b[0m\u001b[0mcontent\u001b[0m\u001b[0;34m)\u001b[0m\u001b[0;34m:\u001b[0m\u001b[0;34m\u001b[0m\u001b[0;34m\u001b[0m\u001b[0m\n",
      "\u001b[0;31mTypeError\u001b[0m: __init__() got an unexpected keyword argument 'figure'"
     ]
    },
    {
     "data": {
      "text/plain": [
       "<matplotlib.figure.Figure at 0x7fa6e95df128>"
      ]
     },
     "metadata": {},
     "output_type": "display_data"
    }
   ],
   "source": [
    "main(db, \"docs/layouts/layout1.ly\")"
   ]
  },
  {
   "cell_type": "markdown",
   "metadata": {
    "slideshow": {
     "slide_type": "slide"
    }
   },
   "source": [
    "# Extension à N titres\n",
    "## Théorie et application"
   ]
  },
  {
   "cell_type": "markdown",
   "metadata": {
    "slideshow": {
     "slide_type": "subslide"
    }
   },
   "source": [
    "### Généralisation des équations\n",
    "Généralisation des l’équation avec $ \\alpha $ distribué entre les titres tel que $\\sum\\alpha_i=1$\n",
    "\n",
    "#### L'ésperance\n",
    "\\begin{align}\n",
    "    E(R_p) = \\sum_{i=0}^{n}\\alpha_i \\cdot E(R_i)\n",
    "\\end{align}\n",
    "\n",
    "\n",
    "##### La variance\n",
    "\n",
    "\\begin{align}\n",
    "    Var(R_P) = (\\sum_{i=0}^{n}\\alpha_i \\cdot \\sigma_i)^2\n",
    "\\end{align}\n",
    "\n",
    "C'est une forme quadratique d'ordre N donc il existe une matrice symétrique $ N \\cdot N $ associée \n",
    "Pour 3 titres on trouve\n",
    "\n",
    "\\begin{pmatrix}\n",
    "     \\alpha^2_{1}& \\frac{\\mathrm{\\alpha_1\\alpha_2} }{\\mathrm{2}} &\\frac{\\mathrm{\\alpha_1\\alpha_3} }{\\mathrm{2}}\\\\\n",
    "    \\frac{\\mathrm{\\alpha_1\\alpha_2} }{\\mathrm{2}}&\\alpha^2_2&\\frac{\\mathrm{\\alpha_2\\alpha_3} }{\\mathrm{2}}\\\\\n",
    "    \\frac{\\mathrm{\\alpha_1\\alpha_3} }{\\mathrm{2}}&\\frac{\\mathrm{\\alpha_2\\alpha_3} }{\\mathrm{2}}&\\alpha^2_{3}\n",
    "\\end{pmatrix} \n"
   ]
  },
  {
   "cell_type": "markdown",
   "metadata": {
    "slideshow": {
     "slide_type": "subslide"
    }
   },
   "source": [
    "### Calcul de l'écart-type\n",
    "\\begin{align}\n",
    "    A = M_{quadratique} \\cdot M_{covar}\\\\\n",
    "\\end{align}\n",
    "\n",
    "La trace de A est la somme des variances pondérés par les $\\alpha_i$, soit la variance de $R_p$\n",
    "\n",
    "\\begin{align}\n",
    "    trace(A)= Var(R_P)\n",
    "\\end{align}\n",
    "\n",
    "\\begin{align}\n",
    "    \\sigma_{R_P} = \\sqrt{Var(R_P)} = \\sqrt{trace(A)}\n",
    "\\end{align}"
   ]
  },
  {
   "cell_type": "markdown",
   "metadata": {
    "slideshow": {
     "slide_type": "subslide"
    }
   },
   "source": [
    "### Génération du plan barycentrique\n",
    "$ E = \n",
    "\\begin{Bmatrix}\n",
    "     (x, y, z)  \\in  \\mathbb{R^3}\\setminus x + y + z = 1\n",
    "\\end{Bmatrix} \n",
    "$\n",
    "\n",
    "On fixe un point (en l'occurence z) auquel on retire à plusieur étapes un nombre 's' (1/total_étapes) puis on calcule tous les points x, y qui correspondent à x + y = num_étape*s\n",
    "\n",
    "\n",
    "![Image de la génération de l'espace](img/rasterizer_screen.png)"
   ]
  },
  {
   "cell_type": "code",
   "execution_count": 12,
   "metadata": {
    "scrolled": true,
    "slideshow": {
     "slide_type": "subslide"
    }
   },
   "outputs": [
    {
     "name": "stdout",
     "output_type": "stream",
     "text": [
      "! docs/layouts/layout2.ly\n",
      "\n",
      "& Normal (scale=100) {\n",
      "\t[ NormalGraph(axa) Kde(lvmh) | NormalGraph(lvmh) Kde(lvmh) | NormalGraph(engie) Kde(engie) ]\n",
      "\t[                              EfficientFrontier(axa/lvmh/engie)                                 ]\n",
      "}\n",
      "\n"
     ]
    }
   ],
   "source": [
    "with open(\"docs/layouts/layout2.ly\") as ly:\n",
    "    print(ly.read())"
   ]
  },
  {
   "cell_type": "code",
   "execution_count": 13,
   "metadata": {
    "slideshow": {
     "slide_type": "subslide"
    }
   },
   "outputs": [
    {
     "ename": "TypeError",
     "evalue": "__init__() got an unexpected keyword argument 'figure'",
     "output_type": "error",
     "traceback": [
      "\u001b[0;31m---------------------------------------------------------------------------\u001b[0m",
      "\u001b[0;31mTypeError\u001b[0m                                 Traceback (most recent call last)",
      "\u001b[0;32m<ipython-input-13-21c3cda73272>\u001b[0m in \u001b[0;36m<module>\u001b[0;34m\u001b[0m\n\u001b[0;32m----> 1\u001b[0;31m \u001b[0mmain\u001b[0m\u001b[0;34m(\u001b[0m\u001b[0mdb\u001b[0m\u001b[0;34m,\u001b[0m \u001b[0;34m\"docs/layouts/layout2.ly\"\u001b[0m\u001b[0;34m)\u001b[0m\u001b[0;34m\u001b[0m\u001b[0;34m\u001b[0m\u001b[0m\n\u001b[0m",
      "\u001b[0;32m<ipython-input-2-5a42961bb04e>\u001b[0m in \u001b[0;36mmain\u001b[0;34m(db, layout_file)\u001b[0m\n\u001b[1;32m     11\u001b[0m \u001b[0;34m\u001b[0m\u001b[0m\n\u001b[1;32m     12\u001b[0m     \u001b[0;32mfor\u001b[0m \u001b[0mwindow\u001b[0m \u001b[0;32min\u001b[0m \u001b[0mlayout\u001b[0m\u001b[0;34m:\u001b[0m\u001b[0;34m\u001b[0m\u001b[0;34m\u001b[0m\u001b[0m\n\u001b[0;32m---> 13\u001b[0;31m         \u001b[0mconsumme_window\u001b[0m\u001b[0;34m(\u001b[0m\u001b[0mwindow\u001b[0m\u001b[0;34m,\u001b[0m \u001b[0mdb\u001b[0m\u001b[0;34m)\u001b[0m\u001b[0;34m\u001b[0m\u001b[0;34m\u001b[0m\u001b[0m\n\u001b[0m\u001b[1;32m     14\u001b[0m \u001b[0;34m\u001b[0m\u001b[0m\n\u001b[1;32m     15\u001b[0m     \u001b[0mshow\u001b[0m\u001b[0;34m(\u001b[0m\u001b[0;34m)\u001b[0m\u001b[0;34m\u001b[0m\u001b[0;34m\u001b[0m\u001b[0m\n",
      "\u001b[0;32m~/py_projects/fcmi/markowitz/__init__.py\u001b[0m in \u001b[0;36mconsumme_window\u001b[0;34m(window, db)\u001b[0m\n\u001b[1;32m      8\u001b[0m     \u001b[0;34m\"\"\" Consumme windows to create plots \"\"\"\u001b[0m\u001b[0;34m\u001b[0m\u001b[0;34m\u001b[0m\u001b[0m\n\u001b[1;32m      9\u001b[0m     \u001b[0mfig\u001b[0m \u001b[0;34m=\u001b[0m \u001b[0mfigure\u001b[0m\u001b[0;34m(\u001b[0m\u001b[0mwindow\u001b[0m\u001b[0;34m.\u001b[0m\u001b[0mname\u001b[0m\u001b[0;34m,\u001b[0m \u001b[0mfigsize\u001b[0m\u001b[0;34m=\u001b[0m\u001b[0;34m(\u001b[0m\u001b[0;36m15\u001b[0m\u001b[0;34m,\u001b[0m \u001b[0;36m10\u001b[0m\u001b[0;34m)\u001b[0m\u001b[0;34m)\u001b[0m\u001b[0;34m\u001b[0m\u001b[0;34m\u001b[0m\u001b[0m\n\u001b[0;32m---> 10\u001b[0;31m     \u001b[0mgs\u001b[0m \u001b[0;34m=\u001b[0m \u001b[0mGridSpec\u001b[0m\u001b[0;34m(\u001b[0m\u001b[0mwindow\u001b[0m\u001b[0;34m.\u001b[0m\u001b[0mrows\u001b[0m\u001b[0;34m,\u001b[0m \u001b[0mwindow\u001b[0m\u001b[0;34m.\u001b[0m\u001b[0mcols\u001b[0m\u001b[0;34m,\u001b[0m \u001b[0mfigure\u001b[0m\u001b[0;34m=\u001b[0m\u001b[0mfig\u001b[0m\u001b[0;34m)\u001b[0m\u001b[0;34m\u001b[0m\u001b[0;34m\u001b[0m\u001b[0m\n\u001b[0m\u001b[1;32m     11\u001b[0m \u001b[0;34m\u001b[0m\u001b[0m\n\u001b[1;32m     12\u001b[0m     \u001b[0;32mfor\u001b[0m \u001b[0mi\u001b[0m\u001b[0;34m,\u001b[0m \u001b[0m_\u001b[0m \u001b[0;32min\u001b[0m \u001b[0menumerate\u001b[0m\u001b[0;34m(\u001b[0m\u001b[0mwindow\u001b[0m\u001b[0;34m.\u001b[0m\u001b[0mcontent\u001b[0m\u001b[0;34m)\u001b[0m\u001b[0;34m:\u001b[0m\u001b[0;34m\u001b[0m\u001b[0;34m\u001b[0m\u001b[0m\n",
      "\u001b[0;31mTypeError\u001b[0m: __init__() got an unexpected keyword argument 'figure'"
     ]
    },
    {
     "data": {
      "text/plain": [
       "<matplotlib.figure.Figure at 0x7f7a10545630>"
      ]
     },
     "metadata": {},
     "output_type": "display_data"
    }
   ],
   "source": [
    "main(db, \"docs/layouts/layout2.ly\")"
   ]
  },
  {
   "cell_type": "markdown",
   "metadata": {
    "slideshow": {
     "slide_type": "slide"
    }
   },
   "source": [
    "# Conclusion\n",
    "## Critiques et application"
   ]
  },
  {
   "cell_type": "markdown",
   "metadata": {
    "slideshow": {
     "slide_type": "subslide"
    }
   },
   "source": [
    "### Critiques\n",
    "\n",
    "- Théorie remise en cause notamment par Benoit Mandelbrot car ce modèle serait trop déconnecté des marchés financiers. En effet la loi de gauss sous évalue la probabilité d'évenements improbables (notamment les krachs boursiers).\n",
    "\n",
    "- Les suppositions néo-classiques sont irréalistes, les individus ne sont pas rationnels et les variations passé ne se répètent pas dans le futur\n",
    "\n",
    "### Ouverture\n",
    "\n",
    "Afin de mieux anticiper les évenements improbables on peut utiliser la loi de pareto ou les lois de puissance.\n",
    "    "
   ]
  },
  {
   "cell_type": "markdown",
   "metadata": {
    "slideshow": {
     "slide_type": "subslide"
    }
   },
   "source": [
    "# Merci\n",
    "\n",
    "### Le code est disponibles sur \n",
    "[github.com/hyyking/markowitz](https://github.com/hyyking/markowitz)"
   ]
  }
 ],
 "metadata": {
  "celltoolbar": "Slideshow",
  "kernelspec": {
   "display_name": "Python 3",
   "language": "python",
   "name": "python3"
  },
  "language_info": {
   "codemirror_mode": {
    "name": "ipython",
    "version": 3
   },
   "file_extension": ".py",
   "mimetype": "text/x-python",
   "name": "python",
   "nbconvert_exporter": "python",
   "pygments_lexer": "ipython3",
   "version": "3.6.8"
  }
 },
 "nbformat": 4,
 "nbformat_minor": 4
}
