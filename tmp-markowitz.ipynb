{
 "cells": [
  {
   "cell_type": "markdown",
   "metadata": {},
   "source": [
    "# Théorie Moderne du Portefeuille\n",
    "### Adrien Chaillout-Morlot & Léo Duret"
   ]
  },
  {
   "cell_type": "markdown",
   "metadata": {},
   "source": [
    "## Introduction"
   ]
  },
  {
   "cell_type": "markdown",
   "metadata": {},
   "source": [
    "## Théorie Moderne du Portefeuille\n",
    "\n",
    "La Théorie moderne du portefeuille explique le processus de sélection des actifs durant l’élaboration d’un portefeuille, afin que celui-ci ait son efficience maximisée. Sa théorie repose alors sur la diversification des titres du portefeuille. Ceux-ci doivent être choisi en fonction de la corrélation de leurs variations avec les autres titres du portefeuille. Ce type de sélection permet alors de minimiser les risques pour un seuil de rendement prédéfini. Markowitz fait l’hypothèse que les agents sont rationnels et averses aux risques et que les marchés sont efficients. Les individus vont donc choisir leurs actifs en fonction de deux critères :\n",
    "    • Le rendement \n",
    "    • Le risque\n",
    "En effet, les investisseurs choisiront des actifs ayant toujours un rendement optimal pour un risque minimum.  Le rendement d’un portefeuille est représenté par la somme des rendements d’actifs du portefeuille pondérés par leur poids :\n",
    "\n",
    "L’écart type représente le risque du portefeuille, plus la volatilité est importante est plus il est risqué. Pour un portefeuille à un titre l’écart titre peut s’exprimer comme ceci :\n",
    "\n",
    "Pour un portefeuille composé de deux actifs, on fixe  la proportion du titre A détenu avec \n",
    "Le rendement s’écrit alors   \n",
    "La variance s’écrit alors  \n",
    "Or   avec  le coefficient de corrélation entre les 2 titres \n",
    "Donc  \n",
    "On ressort donc :\n",
    "       \n",
    "      \n",
    "\n",
    "En caractérisant les actifs en fonctions de leur risque et rendement on peut alors établir la frontière efficiente sur laquelle on trouve les différents portefeuilles offrant des rendements optimaux pour un niveau de risque fixé. Ces po\n"
   ]
  }
 ],
 "metadata": {
  "kernelspec": {
   "display_name": "Python 3",
   "language": "python",
   "name": "python3"
  },
  "language_info": {
   "codemirror_mode": {
    "name": "ipython",
    "version": 3
   },
   "file_extension": ".py",
   "mimetype": "text/x-python",
   "name": "python",
   "nbconvert_exporter": "python",
   "pygments_lexer": "ipython3",
   "version": "3.7.3"
  }
 },
 "nbformat": 4,
 "nbformat_minor": 2
}
